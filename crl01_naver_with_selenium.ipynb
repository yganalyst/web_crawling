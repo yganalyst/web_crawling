{
 "cells": [
  {
   "cell_type": "markdown",
   "metadata": {},
   "source": [
    "## Selenium이란? "
   ]
  },
  {
   "cell_type": "markdown",
   "metadata": {},
   "source": [
    "Selenium은 `webdriver`라는 API를 통해 운영체제에 설치된 Chrome등의 브라우저를 제어하는데 활용되는 파이썬 라이브러리이다.  \n",
    "이 라이브러리를 이용하면 코드가 실행되는 동안 실제로 웹브라우저가 동작하기 때문에, 웹 브라우저에 나타나는 컨텐츠라면 모두 수집이 가능하다.  "
   ]
  },
  {
   "cell_type": "markdown",
   "metadata": {},
   "source": [
    "설치는 간단하다.  "
   ]
  },
  {
   "cell_type": "code",
   "execution_count": null,
   "metadata": {},
   "outputs": [],
   "source": [
    "$ conda install selenium"
   ]
  },
  {
   "cell_type": "code",
   "execution_count": null,
   "metadata": {},
   "outputs": [],
   "source": [
    "$ pip install selenium"
   ]
  },
  {
   "cell_type": "markdown",
   "metadata": {},
   "source": [
    "앞에서 설명했던 `webdriver`는 브라우저를 제어할 수 있도록 하는데, 여기서는 Chrome을 중심으로 설명한다.  \n",
    "설치 방식은 [여기](https://beomi.github.io/2017/02/27/HowToMakeWebCrawler-With-Selenium/)를 참고.  "
   ]
  },
  {
   "cell_type": "markdown",
   "metadata": {},
   "source": [
    "## 1. Selenium으로 사이트 브라우징  "
   ]
  },
  {
   "cell_type": "markdown",
   "metadata": {},
   "source": [
    "### 1-1. `webdriver`  "
   ]
  },
  {
   "cell_type": "markdown",
   "metadata": {},
   "source": [
    "wedriver라는 모듈을 불러와보자.  "
   ]
  },
  {
   "cell_type": "code",
   "execution_count": 19,
   "metadata": {},
   "outputs": [
    {
     "data": {
      "text/plain": [
       "selenium.webdriver.chrome.webdriver.WebDriver"
      ]
     },
     "execution_count": 19,
     "metadata": {},
     "output_type": "execute_result"
    }
   ],
   "source": [
    "type(driver)"
   ]
  },
  {
   "cell_type": "code",
   "execution_count": 5,
   "metadata": {},
   "outputs": [
    {
     "name": "stdout",
     "output_type": "stream",
     "text": [
      "['ActionChains', 'Android', 'BlackBerry', 'Chrome', 'ChromeOptions', 'DesiredCapabilities', 'Edge', 'Firefox', 'FirefoxOptions', 'FirefoxProfile', 'Ie', 'IeOptions', 'Opera', 'PhantomJS', 'Proxy', 'Remote', 'Safari', 'TouchActions', 'WebKitGTK', 'WebKitGTKOptions', '__builtins__', '__cached__', '__doc__', '__file__', '__loader__', '__name__', '__package__', '__path__', '__spec__', '__version__', 'android', 'blackberry', 'chrome', 'common', 'edge', 'firefox', 'ie', 'opera', 'phantomjs', 'remote', 'safari', 'support', 'webkitgtk'] "
     ]
    }
   ],
   "source": [
    "from selenium import webdriver\n",
    "\n",
    "print(dir(webdriver), end = ' ')"
   ]
  },
  {
   "cell_type": "markdown",
   "metadata": {},
   "source": [
    "여기서는 Chrome을 사용한다고 했지만 `webdriver` 객체(모듈)가 가진 속성을 확인해보면, Chrome이외에도 safari, android, phantomjs 등 다양한 웹 드라이버를 사용할 수 있도록 제공한다.  "
   ]
  },
  {
   "cell_type": "code",
   "execution_count": 6,
   "metadata": {},
   "outputs": [],
   "source": [
    "driver = webdriver.Chrome('D:/web_crawling/chromedriver')"
   ]
  },
  {
   "cell_type": "markdown",
   "metadata": {},
   "source": [
    "`driver`객체만 생성하면 빈 화면이 켜지는데, 이것을 끄면 driver를 사용할 수 없으므로 놔두어야 한다.  "
   ]
  },
  {
   "cell_type": "markdown",
   "metadata": {},
   "source": [
    "### 1-2. driver객체의 다양한 메소드  "
   ]
  },
  {
   "cell_type": "markdown",
   "metadata": {},
   "source": [
    "- `implicitly_wait` : 웹 로드 대기시간 설정  "
   ]
  },
  {
   "cell_type": "markdown",
   "metadata": {},
   "source": [
    "Selenium은 기본적으로 웹 자원들이 모두 로드 될때까지 기다리지만, `implicitly_wait`를 통해 직접 기다리게 하는 시간을 지정해 줄 수 있다.  "
   ]
  },
  {
   "cell_type": "code",
   "execution_count": 9,
   "metadata": {},
   "outputs": [],
   "source": [
    "driver = webdriver.Chrome('D:/web_crawling/chromedriver')\n",
    "driver.implicitly_wait(3) # 3초간 wait"
   ]
  },
  {
   "cell_type": "markdown",
   "metadata": {},
   "source": [
    "- `get` : url 접근  "
   ]
  },
  {
   "cell_type": "markdown",
   "metadata": {},
   "source": [
    "이제 `get`을 이용해 url에 접근해보자.  "
   ]
  },
  {
   "cell_type": "code",
   "execution_count": 18,
   "metadata": {},
   "outputs": [],
   "source": [
    "driver = webdriver.Chrome('D:/web_crawling/chromedriver')\n",
    "driver.implicitly_wait(3) # 3초간 wait\n",
    "\n",
    "driver.get('https://google.com')"
   ]
  },
  {
   "cell_type": "markdown",
   "metadata": {},
   "source": [
    "- 페이지 단일 element 접근  \n",
    "`find_element_by_name(\"HTML_name\")`  \n",
    "`find_element_by_id(‘HTML_id’)`  \n",
    "`find_element_by_xpath(‘/html/body/some/xpath’)`  \n",
    "\n",
    "\n",
    "- 페이지의 여러 elements에 접근  \n",
    "`find_element_by_css_selector(‘#css > div.selector’)`  \n",
    "`find_element_by_class_name(‘some_class_name’)`  \n",
    "`find_element_by_tag_name(‘h1’)`  \n",
    "\n",
    "\n",
    "- 현재 페이지의 모든 elements  \n",
    "`page_source`  "
   ]
  },
  {
   "cell_type": "markdown",
   "metadata": {},
   "source": [
    "위 Selenium의 내장함수들을 이용해 브라우저의 HTML을 파싱할 수도 있지만, 보통은 `page_source`를 이용해 모든 elements를 불러오고 `BeautifulSoup`라이브러리를 이용하는 경우가 많다.  "
   ]
  },
  {
   "cell_type": "markdown",
   "metadata": {},
   "source": [
    "## 2. 네이버 로그인하기  "
   ]
  },
  {
   "cell_type": "markdown",
   "metadata": {},
   "source": [
    "우선 앞에서 배운 방법을 바탕으로, 네이버 로그인 페이지로 접근한다.  "
   ]
  },
  {
   "cell_type": "code",
   "execution_count": 33,
   "metadata": {},
   "outputs": [],
   "source": [
    "from selenium import webdriver\n",
    "\n",
    "driver = webdriver.Chrome('D:/web_crawling/chromedriver')\n",
    "driver.implicitly_wait(3) # 3초간 wait\n",
    "\n",
    "driver.get('https://nid.naver.com/nidlogin.login')"
   ]
  },
  {
   "cell_type": "code",
   "execution_count": null,
   "metadata": {},
   "outputs": [],
   "source": [
    "네이버로그인 사진첨부"
   ]
  },
  {
   "cell_type": "markdown",
   "metadata": {},
   "source": [
    "개발자도구로 페이지 소스로 아이디와 비밀번호 입력란의 name을 확인해야 한다.  \n",
    "확인결과 아이디는 name = 'id', 비밀번호는 name = 'pw'이다.  "
   ]
  },
  {
   "cell_type": "markdown",
   "metadata": {},
   "source": [
    "앞에서 말한 selenium 내장함수로 페이지의 단일 element에 접근해 아이디와 비밀번호를 입력한다.  "
   ]
  },
  {
   "cell_type": "code",
   "execution_count": 34,
   "metadata": {},
   "outputs": [],
   "source": [
    "driver.find_element_by_name('id').send_keys('naver_id')\n",
    "driver.find_element_by_name('pw').send_keys('passward')"
   ]
  },
  {
   "cell_type": "markdown",
   "metadata": {},
   "source": [
    "코드를 실행하면 자동으로 입력된 것을 확인할 수 있다.  "
   ]
  },
  {
   "cell_type": "code",
   "execution_count": 35,
   "metadata": {},
   "outputs": [],
   "source": [
    "driver.find_element_by_xpath('//*[@id=\"frmNIDLogin\"]/fieldset/input').click()"
   ]
  },
  {
   "cell_type": "code",
   "execution_count": null,
   "metadata": {},
   "outputs": [],
   "source": [
    "사진첨부 _2"
   ]
  },
  {
   "cell_type": "markdown",
   "metadata": {},
   "source": [
    "현재는 네이버 캡차(Captcha)가 이를 감지하여 자동로그인이 안되게 막아놓았다.  \n",
    "다른 방법으로 [여기](https://hyrama.com/?p=693)의 내용을 참고하면 좋을 것 같다.  "
   ]
  },
  {
   "cell_type": "markdown",
   "metadata": {},
   "source": [
    "### 2-1. `find_element_by_xpath(XML path)`  "
   ]
  },
  {
   "cell_type": "markdown",
   "metadata": {},
   "source": [
    "로그인 버튼을 클릭하기 위해 사용한 Selenium 내장함수 `find_element_by_xpath`에 들어간 '//*[@id=\"frmNIDLogin\"]/fieldset/input'는 약간 생소하다.  \n",
    "이 함수는 XML문서의 일부분을 탐색하고 선택하는데 사용하는 쿼리 언어다.  "
   ]
  },
  {
   "cell_type": "markdown",
   "metadata": {},
   "source": [
    "1. 루트 노드 대 루트가 아닌 노드  \n",
    "\n",
    "\n",
    "- /div 는 오직 문서의 루트에 있는 div 노드만 선택한다.  \n",
    "- //div 는 문서의 어디에있든 모든 div노드를 선택한다.  \n",
    "\n",
    "\n",
    "2. 속성 선택  \n",
    "\n",
    "\n",
    "- //@href는 href 속성이 있는 모든 노드를 선택한다.  \n",
    "- //a[@href=’http:\\/\\/google.com’]는 구글을 가리키는 모든 링크를 선택한다.  \n",
    "\n",
    "\n",
    "3. 위치에따른 노드 선택  \n",
    "\n",
    "\n",
    "- (//a)[3]는 문서의 세 번째 링크를 선택한다.  \n",
    "- (//table)[last()]는 문서의 마지막 테이블을 선택한다.  \n",
    "- (//a)[position() < 3]는 문서의 처음 두 링크를 선택한다.  \n",
    "\n",
    "\n",
    "4. 아스테리스크(*)는 어떤 문자나 노드의 집합이든 선택한다.  \n",
    "\n",
    "\n",
    "- //table/tr/*은 모든 테이블에서 모든 자식 tr태그를 선택한다.  \n",
    "- //div[@*]는 속성이 하나라도 있는 모든 div태그를 선택한다.  "
   ]
  },
  {
   "cell_type": "markdown",
   "metadata": {},
   "source": [
    "출처 :  [Dev-ing블로그](https://cozy-ho.github.io/web%20scraping/2017/11/15/%EC%9E%90%EB%B0%94%EC%8A%A4%ED%81%AC%EB%A6%BD%ED%8A%B8-%EC%8A%A4%ED%81%AC%EB%A0%88%EC%9D%B4%ED%95%91.html)"
   ]
  },
  {
   "cell_type": "code",
   "execution_count": null,
   "metadata": {},
   "outputs": [],
   "source": [
    "사진첨부 _3"
   ]
  },
  {
   "cell_type": "markdown",
   "metadata": {},
   "source": [
    "로그인 버튼의 태그 구조를 살펴보면 위와 같다.  \n",
    "이 구조와 XML쿼리 언어를 이해해야한다.  "
   ]
  },
  {
   "cell_type": "markdown",
   "metadata": {},
   "source": [
    "## 3. 네이버 뉴스 접근해보기  "
   ]
  },
  {
   "cell_type": "markdown",
   "metadata": {},
   "source": [
    "앞서 네이버 로그인을 자동으로 하는 코드를 짠 것을 응용해서, 네이버 뉴스 페이지에 접근해 자료를 가져와보자.  "
   ]
  },
  {
   "cell_type": "markdown",
   "metadata": {},
   "source": [
    "특히 html구조와 버튼 클릭을 위한 `xpath`에 들어가는 xml쿼리에 익숙해질 필요가 있다.  \n",
    "네이버 뉴스 접근 소스는 다음과 같다.  "
   ]
  },
  {
   "cell_type": "code",
   "execution_count": null,
   "metadata": {},
   "outputs": [],
   "source": [
    "사진첨부 _4"
   ]
  },
  {
   "cell_type": "markdown",
   "metadata": {},
   "source": [
    "위에서 로그인 버튼 클릭때 썼던 코드를 참고하여, 네이버 뉴스 버튼을 클릭하기 위해서는 다음과 같이 하면 된다.  "
   ]
  },
  {
   "cell_type": "code",
   "execution_count": 107,
   "metadata": {},
   "outputs": [
    {
     "data": {
      "text/plain": [
       "[<strong class=\"ht_title\">소비자물가 54년만에 첫 ‘마이너스'…임박한 ...</strong>,\n",
       " <strong class=\"ht_title\">아시아나항공 인수戰, 예비입찰에 5곳 격돌</strong>,\n",
       " <strong class=\"ht_title\">文대통령, 조국 임명 수순 돌입… 검찰은 아내...</strong>,\n",
       " <strong class=\"ht_title\">청, 조국 임명 강행 수순… 야, 격앙</strong>,\n",
       " <strong class=\"ht_title\">President Moon to request Cho Kuk’s Assembly ...</strong>,\n",
       " <strong class=\"ht_title\">초유의 마이너스 물가…`D의 공포` 엄습</strong>,\n",
       " <strong class=\"ht_title\">조국 셀프 면죄부에… 檢, 단국대 교수·처남 ...</strong>,\n",
       " <strong class=\"ht_title\">분양가 상한제 아파트 55%가 강남</strong>,\n",
       " <strong class=\"ht_title\">물가상승률 바닥 깨졌다</strong>,\n",
       " <strong class=\"ht_title\">“대학 채점공개로 ‘깜깜이 학종’ 고치고 균형...</strong>,\n",
       " <strong class=\"ht_title\">\"배터리 전쟁 확전 막자\" 정부, SK-LG ...</strong>,\n",
       " <strong class=\"ht_title\">[단독] 조국 딸 받은 '동양대 총장상'···...</strong>,\n",
       " <strong class=\"ht_title\">D의 공포…사상 첫 마이너스 물가</strong>,\n",
       " <strong class=\"ht_title\">[알립니다]LG와 함께하는 '동아 다문화賞' ...</strong>,\n",
       " <strong class=\"ht_title\">문 대통령의 직진… 이르면 주말 조국 임명</strong>,\n",
       " <strong class=\"ht_title\">실적 악화에 좁아진 취업문..긴장하는 취준생</strong>,\n",
       " <strong class=\"ht_title\">3중 족쇄에...연말 가계대출 기근 온다</strong>,\n",
       " <strong class=\"ht_title\">[단독] \"조국 펀드 핵심 인물들 필리핀에 함...</strong>,\n",
       " <strong class=\"ht_title\">'불화수소' 일본산 대체 스타트...일부 반도...</strong>]"
      ]
     },
     "execution_count": 107,
     "metadata": {},
     "output_type": "execute_result"
    }
   ],
   "source": [
    "from selenium import webdriver\n",
    "from bs4 import BeautifulSoup\n",
    "\n",
    "driver = webdriver.Chrome('D:/web_crawling/chromedriver')\n",
    "driver.implicitly_wait(3) # 3초간 wait\n",
    "\n",
    "driver.get('https://www.naver.com')\n",
    "driver.find_element_by_xpath('//a[@href=\"https://news.naver.com/\"]').click()\n",
    "\n",
    "html = driver.page_source\n",
    "\n",
    "soup = BeautifulSoup(html, 'html.parser')\n",
    "highlight = soup.select(\"strong.ht_title\")\n",
    "highlight"
   ]
  },
  {
   "cell_type": "markdown",
   "metadata": {},
   "source": [
    "간단하게 신문 헤드라인의 굵은글씨(high light)만 `BeautifulSoup`를 이용해 긁어와 보았다.  "
   ]
  },
  {
   "cell_type": "code",
   "execution_count": null,
   "metadata": {},
   "outputs": [],
   "source": [
    "사진첨부 _ 5"
   ]
  },
  {
   "cell_type": "markdown",
   "metadata": {},
   "source": [
    "이렇게 긁어오고 싶은 텍스트들이 어떤 html구조로 형성되어 있는지 먼저 파악하는 시간을 갖는게 중요하다.  \n",
    "다음 포스팅에서는 html을 parsing해서 원하는 텍스트를 가져올 수 있도록 `BeautifulSoup`라이브러리에 대해 자세하게 공부해 볼 것이다.  "
   ]
  },
  {
   "cell_type": "code",
   "execution_count": null,
   "metadata": {},
   "outputs": [],
   "source": []
  }
 ],
 "metadata": {
  "kernelspec": {
   "display_name": "Python 3",
   "language": "python",
   "name": "python3"
  },
  "language_info": {
   "codemirror_mode": {
    "name": "ipython",
    "version": 3
   },
   "file_extension": ".py",
   "mimetype": "text/x-python",
   "name": "python",
   "nbconvert_exporter": "python",
   "pygments_lexer": "ipython3",
   "version": "3.7.3"
  }
 },
 "nbformat": 4,
 "nbformat_minor": 2
}
